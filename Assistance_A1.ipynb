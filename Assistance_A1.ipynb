{
 "cells": [
  {
   "cell_type": "markdown",
   "metadata": {},
   "source": [
    "# Assistance for Assignment 1"
   ]
  },
  {
   "cell_type": "code",
   "execution_count": 1,
   "metadata": {},
   "outputs": [],
   "source": [
    "\n",
    "from abc import ABCMeta, abstractmethod\n",
    "import queue as Q"
   ]
  },
  {
   "cell_type": "markdown",
   "metadata": {},
   "source": [
    "### Data Structures taken from \"ps1.py\" given in tutorial week 3\n",
    "\n",
    "#### Possible to include Queue, Stack, Priority Queue"
   ]
  },
  {
   "cell_type": "code",
   "execution_count": 2,
   "metadata": {},
   "outputs": [],
   "source": [
    "\n",
    "\n",
    "class Queue:\n",
    "    def __init__(self):\n",
    "        self.items = []\n",
    "    def isEmpty(self):\n",
    "        return self.items == []\n",
    "    def add(self, item):\n",
    "        self.items.insert(0, item)\n",
    "    def get(self):\n",
    "        return self.items.pop()\n",
    "    def size(self):\n",
    "        return len(self.items)"
   ]
  },
  {
   "cell_type": "code",
   "execution_count": 3,
   "metadata": {},
   "outputs": [
    {
     "ename": "NameError",
     "evalue": "name 'ABCMeta' is not defined",
     "output_type": "error",
     "traceback": [
      "\u001b[0;31m---------------------------------------------------------------------------\u001b[0m",
      "\u001b[0;31mNameError\u001b[0m                                 Traceback (most recent call last)",
      "\u001b[1;32m/Users/iman/Library/CloudStorage/OneDrive-SwinburneUniversityOfTechnologySarawakCampus/College/Bachelor of CS/Sem 1 2022/COS 30019/Assignment 1/Python/1/Assistance_A1.ipynb Cell 5'\u001b[0m in \u001b[0;36m<cell line: 2>\u001b[0;34m()\u001b[0m\n\u001b[1;32m      <a href='vscode-notebook-cell:/Users/iman/Library/CloudStorage/OneDrive-SwinburneUniversityOfTechnologySarawakCampus/College/Bachelor%20of%20CS/Sem%201%202022/COS%2030019/Assignment%201/Python/1/Assistance_A1.ipynb#ch0000004?line=0'>1</a>\u001b[0m \u001b[39m#Solver class\u001b[39;00m\n\u001b[0;32m----> <a href='vscode-notebook-cell:/Users/iman/Library/CloudStorage/OneDrive-SwinburneUniversityOfTechnologySarawakCampus/College/Bachelor%20of%20CS/Sem%201%202022/COS%2030019/Assignment%201/Python/1/Assistance_A1.ipynb#ch0000004?line=1'>2</a>\u001b[0m \u001b[39mclass\u001b[39;00m \u001b[39mSolver\u001b[39;00m(metaclass\u001b[39m=\u001b[39mABCMeta):\n\u001b[1;32m      <a href='vscode-notebook-cell:/Users/iman/Library/CloudStorage/OneDrive-SwinburneUniversityOfTechnologySarawakCampus/College/Bachelor%20of%20CS/Sem%201%202022/COS%2030019/Assignment%201/Python/1/Assistance_A1.ipynb#ch0000004?line=2'>3</a>\u001b[0m     \u001b[39m@abstractmethod\u001b[39m\n\u001b[1;32m      <a href='vscode-notebook-cell:/Users/iman/Library/CloudStorage/OneDrive-SwinburneUniversityOfTechnologySarawakCampus/College/Bachelor%20of%20CS/Sem%201%202022/COS%2030019/Assignment%201/Python/1/Assistance_A1.ipynb#ch0000004?line=3'>4</a>\u001b[0m     \u001b[39mdef\u001b[39;00m \u001b[39mget\u001b[39m(\u001b[39mself\u001b[39m):\n\u001b[1;32m      <a href='vscode-notebook-cell:/Users/iman/Library/CloudStorage/OneDrive-SwinburneUniversityOfTechnologySarawakCampus/College/Bachelor%20of%20CS/Sem%201%202022/COS%2030019/Assignment%201/Python/1/Assistance_A1.ipynb#ch0000004?line=4'>5</a>\u001b[0m         \u001b[39mraise\u001b[39;00m \u001b[39mNotImplementedError\u001b[39;00m()\n",
      "\u001b[0;31mNameError\u001b[0m: name 'ABCMeta' is not defined"
     ]
    }
   ],
   "source": [
    "#Solver class\n",
    "class Solver(metaclass=ABCMeta):\n",
    "    @abstractmethod\n",
    "    def get(self):\n",
    "        raise notImplementedError()\n",
    "    @abstractmethod\n",
    "    def add(self):\n",
    "        raise NotImplementedError()"
   ]
  },
  {
   "cell_type": "markdown",
   "metadata": {},
   "source": [
    "# 1. Breadth First Search (Queue Strategy)\n",
    "\n",
    "### Searches every possible node at a level.\n",
    "\n",
    "#### Uses Queue data structure"
   ]
  },
  {
   "cell_type": "code",
   "execution_count": 4,
   "metadata": {},
   "outputs": [],
   "source": [
    "#Breadth-first search\n",
    "class Solver1(Solver):\n",
    "    def __init__(self):\n",
    "        self.queue = Queue()\n",
    "    def get(self):\n",
    "        return self.queue.get()\n",
    "    def add(self, state):\n",
    "        self.queue.add(state)\n",
    "    def size(self):\n",
    "        return self.queue.size()"
   ]
  },
  {
   "cell_type": "code",
   "execution_count": 5,
   "metadata": {},
   "outputs": [
    {
     "ename": "SyntaxError",
     "evalue": "invalid syntax (643709108.py, line 16)",
     "output_type": "error",
     "traceback": [
      "\u001b[0;36m  Input \u001b[0;32mIn [5]\u001b[0;36m\u001b[0m\n\u001b[0;31m    heuristic1 = abs(b1-g1) + .....\u001b[0m\n\u001b[0m                                  ^\u001b[0m\n\u001b[0;31mSyntaxError\u001b[0m\u001b[0;31m:\u001b[0m invalid syntax\n"
     ]
    }
   ],
   "source": [
    "class Solver3(Solver):\n",
    "    def __init__(self, start, goal):\n",
    "        self.start = start\n",
    "        self.goal = goal\n",
    "\n",
    "    def heuristic(self, state):\n",
    "        #start state\n",
    "        a, b, c = self.s[0], self.s[1], self.s[2]\n",
    "        \n",
    "        #current state (n)\n",
    "        b1, b2, b3 = state[0], state[1], state[2]\n",
    "        \n",
    "        #goal\n",
    "        g1, g2, g3 = self.g[0], self.g[1], self.g[2]\n",
    "        \n",
    "        heuristic1 = abs(b1-g1) + .....\n",
    "        \n",
    "        return heuristic2"
   ]
  },
  {
   "cell_type": "markdown",
   "metadata": {},
   "source": [
    "# 2. & 3. Define >= 2 other search stratergies\n",
    "\n",
    "### they can use priority queue and stack\n",
    "\n"
   ]
  },
  {
   "cell_type": "markdown",
   "metadata": {},
   "source": [
    "\n",
    "\n",
    "# 4. Create a class for Bottle\n",
    "\n",
    "\n",
    "#### Include possible actions\n"
   ]
  },
  {
   "cell_type": "code",
   "execution_count": 6,
   "metadata": {},
   "outputs": [],
   "source": [
    "#globals \n",
    "found = False\n",
    "\n",
    "class Bottle:\n",
    "    def __init__(self, capacity, startState, goalState):\n",
    "        self.capacity = capacity\n",
    "        self.startState = startState\n",
    "        self.goalState = goalState\n",
    "        \n",
    "        # ADD SOLVERS HERE\n",
    "        self.Solver = Solver1()   #BFS\n",
    "     \n",
    "    \n",
    "    def solve(self):\n",
    "        global found\n",
    "        self.visited = [] #visited node\n",
    "        self.Solver.add(self.startState) #add the state to the solver\n",
    "        state_eval = self.Solver.get()  #visit/solve this state\n",
    "        cost = 0\n",
    "        \n",
    "        print(\"------------------------------------------\")\n",
    "        print(\"\\n  Start State:\", startState, \"\\n Goal State:\", self.goalState)\n",
    "        print(\"------------------------------------------\")\n",
    "        \n",
    "\n",
    "        while not (found):\n",
    "            # we only continue if we're not at the goal\n",
    "            if state_eval != self.goalState:\n",
    "                temp = self.chooseAction(state_eval)\n",
    "                print(\"\\n Exploring State\", state_eval)\n",
    "                \n",
    "                \n",
    "                #add into self.visited if never visited\n",
    "                if(state_eval not in self.visited):\n",
    "                    self.visited.append(state_eval)\n",
    "                \n",
    "                for i in temp:\n",
    "                    if not (i in self.visited):\n",
    "                        self.Solver.add(i)\n",
    "                        \n",
    "                        # add to visited\n",
    "                        self.visited.append(i)\n",
    "                        yield i\n",
    "                        if (i == self.goalState):\n",
    "                            print(\"\\nReach Goal State:\", i)\n",
    "\n",
    "                            found = True\n",
    "                            break\n",
    "                state_eval = self.Solver.get() #get new state to visit\n",
    "            else:\n",
    "                print(\"Found goal state.\")\n",
    "                found = True\n",
    "                    \n",
    "        yield \"Task Completed\"\n",
    "        \n",
    "        \n",
    "    # Operators    \n",
    "    def chooseAction(self, state_eval):\n",
    "    # include your conditions here\n",
    "    #\n",
    "    #\n",
    "    #\n",
    "        #empty the bottles\n",
    "        if(b1 > 0 and found == False):\n",
    "            #print(\"empty b1\")\n",
    "            state = (0, b2, b3)\n",
    "            states.append(state)\n",
    "            \n",
    "        if(b2 > 0 and found == False):\n",
    "            #print(\"empty b2\")\n",
    "            state = (b1, 0, b3)\n",
    "            states.append(state)\n",
    "            \n",
    "            \n",
    "            \n",
    "            \n",
    "    def main():\n",
    "        bot = Bottle((10,6,5), (10,0,0), (8,0,0))\n",
    "        b = bot.solve()\n",
    "        for i in b:\n",
    "            print(i) \n",
    "        \n"
   ]
  },
  {
   "cell_type": "code",
   "execution_count": 7,
   "metadata": {},
   "outputs": [
    {
     "name": "stdout",
     "output_type": "stream",
     "text": [
      "------------------------------------------\n"
     ]
    },
    {
     "ename": "NameError",
     "evalue": "name 'startState' is not defined",
     "output_type": "error",
     "traceback": [
      "\u001b[1;31m---------------------------------------------------------------------------\u001b[0m",
      "\u001b[1;31mNameError\u001b[0m                                 Traceback (most recent call last)",
      "\u001b[1;32m<ipython-input-7-f95f8c917c22>\u001b[0m in \u001b[0;36m<module>\u001b[1;34m\u001b[0m\n\u001b[0;32m      1\u001b[0m \u001b[1;31m#run the program\u001b[0m\u001b[1;33m\u001b[0m\u001b[1;33m\u001b[0m\u001b[1;33m\u001b[0m\u001b[0m\n\u001b[1;32m----> 2\u001b[1;33m \u001b[0mBottle\u001b[0m\u001b[1;33m.\u001b[0m\u001b[0mmain\u001b[0m\u001b[1;33m(\u001b[0m\u001b[1;33m)\u001b[0m\u001b[1;33m\u001b[0m\u001b[1;33m\u001b[0m\u001b[0m\n\u001b[0m",
      "\u001b[1;32m<ipython-input-6-a6a38e6df81f>\u001b[0m in \u001b[0;36mmain\u001b[1;34m()\u001b[0m\n\u001b[0;32m     79\u001b[0m         \u001b[0mbot\u001b[0m \u001b[1;33m=\u001b[0m \u001b[0mBottle\u001b[0m\u001b[1;33m(\u001b[0m\u001b[1;33m(\u001b[0m\u001b[1;36m10\u001b[0m\u001b[1;33m,\u001b[0m\u001b[1;36m6\u001b[0m\u001b[1;33m,\u001b[0m\u001b[1;36m5\u001b[0m\u001b[1;33m)\u001b[0m\u001b[1;33m,\u001b[0m \u001b[1;33m(\u001b[0m\u001b[1;36m10\u001b[0m\u001b[1;33m,\u001b[0m\u001b[1;36m0\u001b[0m\u001b[1;33m,\u001b[0m\u001b[1;36m0\u001b[0m\u001b[1;33m)\u001b[0m\u001b[1;33m,\u001b[0m \u001b[1;33m(\u001b[0m\u001b[1;36m8\u001b[0m\u001b[1;33m,\u001b[0m\u001b[1;36m0\u001b[0m\u001b[1;33m,\u001b[0m\u001b[1;36m0\u001b[0m\u001b[1;33m)\u001b[0m\u001b[1;33m)\u001b[0m\u001b[1;33m\u001b[0m\u001b[1;33m\u001b[0m\u001b[0m\n\u001b[0;32m     80\u001b[0m         \u001b[0mb\u001b[0m \u001b[1;33m=\u001b[0m \u001b[0mbot\u001b[0m\u001b[1;33m.\u001b[0m\u001b[0msolve\u001b[0m\u001b[1;33m(\u001b[0m\u001b[1;33m)\u001b[0m\u001b[1;33m\u001b[0m\u001b[1;33m\u001b[0m\u001b[0m\n\u001b[1;32m---> 81\u001b[1;33m         \u001b[1;32mfor\u001b[0m \u001b[0mi\u001b[0m \u001b[1;32min\u001b[0m \u001b[0mb\u001b[0m\u001b[1;33m:\u001b[0m\u001b[1;33m\u001b[0m\u001b[1;33m\u001b[0m\u001b[0m\n\u001b[0m\u001b[0;32m     82\u001b[0m             \u001b[0mprint\u001b[0m\u001b[1;33m(\u001b[0m\u001b[0mi\u001b[0m\u001b[1;33m)\u001b[0m\u001b[1;33m\u001b[0m\u001b[1;33m\u001b[0m\u001b[0m\n\u001b[0;32m     83\u001b[0m \u001b[1;33m\u001b[0m\u001b[0m\n",
      "\u001b[1;32m<ipython-input-6-a6a38e6df81f>\u001b[0m in \u001b[0;36msolve\u001b[1;34m(self)\u001b[0m\n\u001b[0;32m     21\u001b[0m \u001b[1;33m\u001b[0m\u001b[0m\n\u001b[0;32m     22\u001b[0m         \u001b[0mprint\u001b[0m\u001b[1;33m(\u001b[0m\u001b[1;34m\"------------------------------------------\"\u001b[0m\u001b[1;33m)\u001b[0m\u001b[1;33m\u001b[0m\u001b[1;33m\u001b[0m\u001b[0m\n\u001b[1;32m---> 23\u001b[1;33m         \u001b[0mprint\u001b[0m\u001b[1;33m(\u001b[0m\u001b[1;34m\"\\n  Start State:\"\u001b[0m\u001b[1;33m,\u001b[0m \u001b[0mstartState\u001b[0m\u001b[1;33m,\u001b[0m \u001b[1;34m\"\\n Goal State:\"\u001b[0m\u001b[1;33m,\u001b[0m \u001b[0mself\u001b[0m\u001b[1;33m.\u001b[0m\u001b[0mgoalState\u001b[0m\u001b[1;33m)\u001b[0m\u001b[1;33m\u001b[0m\u001b[1;33m\u001b[0m\u001b[0m\n\u001b[0m\u001b[0;32m     24\u001b[0m         \u001b[0mprint\u001b[0m\u001b[1;33m(\u001b[0m\u001b[1;34m\"------------------------------------------\"\u001b[0m\u001b[1;33m)\u001b[0m\u001b[1;33m\u001b[0m\u001b[1;33m\u001b[0m\u001b[0m\n\u001b[0;32m     25\u001b[0m \u001b[1;33m\u001b[0m\u001b[0m\n",
      "\u001b[1;31mNameError\u001b[0m: name 'startState' is not defined"
     ]
    }
   ],
   "source": [
    " \n",
    "\n",
    "#run the program            \n",
    "Bottle.main()"
   ]
  },
  {
   "cell_type": "code",
   "execution_count": null,
   "metadata": {},
   "outputs": [],
   "source": []
  }
 ],
 "metadata": {
  "kernelspec": {
   "display_name": "Python 3",
   "language": "python",
   "name": "python3"
  },
  "language_info": {
   "codemirror_mode": {
    "name": "ipython",
    "version": 3
   },
   "file_extension": ".py",
   "mimetype": "text/x-python",
   "name": "python",
   "nbconvert_exporter": "python",
   "pygments_lexer": "ipython3",
   "version": "3.8.9"
  }
 },
 "nbformat": 4,
 "nbformat_minor": 2
}
